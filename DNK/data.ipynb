{
 "cells": [
  {
   "cell_type": "code",
   "execution_count": 10,
   "id": "9cccaf50",
   "metadata": {},
   "outputs": [],
   "source": [
    "from Bio import SeqIO\n",
    "\n",
    "fasta_sequences = open(r\"viral.1.1.genomic.fna\")\n",
    "a = fasta_sequences.read()\n",
    "fasta_sequences.close()"
   ]
  },
  {
   "cell_type": "code",
   "execution_count": 17,
   "id": "26dec10b",
   "metadata": {},
   "outputs": [
    {
     "name": "stdout",
     "output_type": "stream",
     "text": [
      "82689498\n"
     ]
    }
   ],
   "source": [
    "b = a[62:]\n",
    "c = b.replace(\"\\n\", \"\")\n",
    "print(len(c))"
   ]
  },
  {
   "cell_type": "code",
   "execution_count": 1,
   "id": "1233784e",
   "metadata": {},
   "outputs": [],
   "source": [
    "from Bio import SeqIO\n",
    "import numpy as np\n",
    "\n",
    "fasta_sequences = SeqIO.parse(open(\"../Data/sequences.fasta\"),'fasta')\n",
    "allSeqs = []\n",
    "for fasta in fasta_sequences:\n",
    "    sequence = fasta.id, str(fasta.seq)\n",
    "    allSeqs.append(np.asarray(sequence))"
   ]
  },
  {
   "cell_type": "code",
   "execution_count": 36,
   "id": "f68c03bf",
   "metadata": {},
   "outputs": [
    {
     "ename": "TypeError",
     "evalue": "list indices must be integers or slices, not tuple",
     "output_type": "error",
     "traceback": [
      "\u001B[1;31m---------------------------------------------------------------------------\u001B[0m",
      "\u001B[1;31mTypeError\u001B[0m                                 Traceback (most recent call last)",
      "\u001B[1;32m<ipython-input-36-d6becd5897e3>\u001B[0m in \u001B[0;36m<module>\u001B[1;34m\u001B[0m\n\u001B[1;32m----> 1\u001B[1;33m \u001B[0mprint\u001B[0m\u001B[1;33m(\u001B[0m\u001B[0mmin\u001B[0m\u001B[1;33m(\u001B[0m\u001B[0mlen\u001B[0m\u001B[1;33m(\u001B[0m\u001B[0mallSeqs\u001B[0m\u001B[1;33m[\u001B[0m\u001B[1;33m:\u001B[0m\u001B[1;33m,\u001B[0m\u001B[1;36m1\u001B[0m\u001B[1;33m]\u001B[0m\u001B[1;33m)\u001B[0m\u001B[1;33m)\u001B[0m\u001B[1;33m)\u001B[0m\u001B[1;33m\u001B[0m\u001B[1;33m\u001B[0m\u001B[0m\n\u001B[0m",
      "\u001B[1;31mTypeError\u001B[0m: list indices must be integers or slices, not tuple"
     ]
    }
   ],
   "source": [
    "print(min(len(allSeqs[:,1])))"
   ]
  },
  {
   "cell_type": "code",
   "execution_count": null,
   "id": "737042a8",
   "metadata": {},
   "outputs": [],
   "source": []
  }
 ],
 "metadata": {
  "kernelspec": {
   "name": "python3",
   "language": "python",
   "display_name": "Python 3"
  },
  "language_info": {
   "codemirror_mode": {
    "name": "ipython",
    "version": 3
   },
   "file_extension": ".py",
   "mimetype": "text/x-python",
   "name": "python",
   "nbconvert_exporter": "python",
   "pygments_lexer": "ipython3",
   "version": "3.7.8"
  }
 },
 "nbformat": 4,
 "nbformat_minor": 5
}